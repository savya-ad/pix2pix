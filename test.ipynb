{
 "cells": [
  {
   "cell_type": "code",
   "execution_count": null,
   "id": "c565cec7",
   "metadata": {},
   "outputs": [],
   "source": [
    "from tensorflow import keras\n",
    "from numpy import load\n",
    "from matplotlib import pyplot\n",
    "impot cv2\n",
    "from numpy.random import randint\n",
    "from numpy import expand_dims\n",
    "from keras.preprocessing.image import load_img\n",
    "from keras.preprocessing.image import img_to_array\n",
    "from numpy import vstack\n"
   ]
  },
  {
   "cell_type": "code",
   "execution_count": null,
   "id": "0d93a06a",
   "metadata": {},
   "outputs": [],
   "source": [
    "# load and prepare training images\n",
    "def load_real_samples(filename):\n",
    "    # load compressed ararys\n",
    "    data = load(filename)\n",
    "    # unpack arrays\n",
    "    X1, X2 = data['arr_0'], data['arr_1']\n",
    "    # scale from [0,255] to [-1,1]\n",
    "    X1 = (X1 - 127.5) / 127.5\n",
    "    X2 = (X2 - 127.5) / 127.5\n",
    "    return [X1, X2]"
   ]
  },
  {
   "cell_type": "code",
   "execution_count": null,
   "id": "4c2e60b6",
   "metadata": {},
   "outputs": [],
   "source": [
    "\n",
    "# load dataset\n",
    "[X1, X2] = load_real_samples('maps_256.npz')\n",
    "print('Loaded', X1.shape, X2.shape)\n",
    "\n",
    "# load dataset\n",
    "[X1, X2] = load_real_samples('maps_256.npz')\n",
    "print('Loaded', X1.shape, X2.shape)"
   ]
  },
  {
   "cell_type": "code",
   "execution_count": null,
   "id": "8082fdf2",
   "metadata": {},
   "outputs": [],
   "source": [
    "# Load model\n",
    "model=keras.models.load_model('model_021920.h5')"
   ]
  },
  {
   "cell_type": "code",
   "execution_count": null,
   "id": "712fd59b",
   "metadata": {},
   "outputs": [],
   "source": [
    "ix = randint(0, len(X1), 1)\n",
    "src_image, tar_image = X1[ix], X2[ix]"
   ]
  },
  {
   "cell_type": "code",
   "execution_count": null,
   "id": "19af3dfc",
   "metadata": {},
   "outputs": [],
   "source": [
    "gen_image = model.predict(src_image)"
   ]
  },
  {
   "cell_type": "code",
   "execution_count": null,
   "id": "850b1aa2",
   "metadata": {},
   "outputs": [],
   "source": [
    "# plot source, generated and target images\n",
    "def plot_images(src_img, gen_img, tar_img):\n",
    "    images = vstack((src_img, gen_img, tar_img))\n",
    "    # scale from [-1,1] to [0,1]\n",
    "    images = (images + 1) / 2.0\n",
    "    titles = ['Source', 'Generated', 'Expected']\n",
    "    # plot images row by row\n",
    "    for i in range(len(images)):\n",
    "        # define subplot\n",
    "        pyplot.subplot(1, 3, 1 + i)\n",
    "        # turn off axis\n",
    "        pyplot.axis('off')\n",
    "        # plot raw pixel data\n",
    "        pyplot.imshow(images[i])\n",
    "        # show title\n",
    "        pyplot.title(titles[i])\n",
    "    pyplot.show()"
   ]
  },
  {
   "cell_type": "code",
   "execution_count": null,
   "id": "d4699393",
   "metadata": {},
   "outputs": [],
   "source": [
    "# plot all three images\n",
    "plot_images(src_image, gen_image, tar_image)"
   ]
  },
  {
   "cell_type": "markdown",
   "id": "f006ff94",
   "metadata": {},
   "source": [
    "# test on single image"
   ]
  },
  {
   "cell_type": "code",
   "execution_count": null,
   "id": "305b75a8",
   "metadata": {},
   "outputs": [],
   "source": [
    "# load an image\n",
    "def load_image(filename, size=(256,256)):\n",
    "    # load image with the preferred size\n",
    "    pixels = load_img(filename, target_size=size)\n",
    "    # convert to numpy array\n",
    "    pixels = img_to_array(pixels)\n",
    "    # scale from [0,255] to [-1,1]\n",
    "    pixels = (pixels - 127.5) / 127.5\n",
    "    # reshape to 1 sample\n",
    "    pixels = expand_dims(pixels, 0)\n",
    "    return pixels"
   ]
  },
  {
   "cell_type": "code",
   "execution_count": null,
   "id": "e5f63624",
   "metadata": {},
   "outputs": [],
   "source": [
    "# load source image\n",
    "src_image = load_image('satelite.jpg')\n",
    "print('Loaded', src_image.shape)"
   ]
  },
  {
   "cell_type": "code",
   "execution_count": null,
   "id": "c82b7a27",
   "metadata": {},
   "outputs": [],
   "source": [
    "gen_img= model.predict(src_image)"
   ]
  },
  {
   "cell_type": "code",
   "execution_count": null,
   "id": "2f1d9c9e",
   "metadata": {},
   "outputs": [],
   "source": [
    "gen_img = (gen_img + 1) / 2.0\n",
    "# plot the image\n",
    "pyplot.imshow(gen_img[0])\n",
    "pyplot.axis('off')\n",
    "pyplot.show()"
   ]
  },
  {
   "cell_type": "code",
   "execution_count": null,
   "id": "3ec6a768",
   "metadata": {},
   "outputs": [],
   "source": []
  }
 ],
 "metadata": {
  "kernelspec": {
   "display_name": "Python 3",
   "language": "python",
   "name": "python3"
  },
  "language_info": {
   "codemirror_mode": {
    "name": "ipython",
    "version": 3
   },
   "file_extension": ".py",
   "mimetype": "text/x-python",
   "name": "python",
   "nbconvert_exporter": "python",
   "pygments_lexer": "ipython3",
   "version": "3.8.8"
  }
 },
 "nbformat": 4,
 "nbformat_minor": 5
}
